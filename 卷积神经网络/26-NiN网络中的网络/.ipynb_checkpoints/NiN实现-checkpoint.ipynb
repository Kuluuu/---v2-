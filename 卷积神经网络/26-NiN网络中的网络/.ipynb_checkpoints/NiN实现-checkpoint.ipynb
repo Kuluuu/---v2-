{
 "cells": [
  {
   "cell_type": "markdown",
   "id": "238e6887",
   "metadata": {},
   "source": [
    "# 网络中的网络（NiN）"
   ]
  },
  {
   "cell_type": "code",
   "execution_count": 1,
   "id": "7ad684a5",
   "metadata": {},
   "outputs": [],
   "source": [
    "import torch\n",
    "from torch import nn\n",
    "from d2l import torch as d2l"
   ]
  },
  {
   "cell_type": "markdown",
   "id": "b774eb5c",
   "metadata": {},
   "source": [
    "## 定义NiN块"
   ]
  },
  {
   "cell_type": "code",
   "execution_count": 2,
   "id": "8ad86efc",
   "metadata": {},
   "outputs": [],
   "source": [
    "def nin_block(in_channels, out_channels, kernel_size, strides, padding):\n",
    "    return nn.Sequential(\n",
    "        nn.Conv2d(in_channels, out_channels, kernel_size, strides, padding),\n",
    "        nn.ReLU(),\n",
    "        # 两个1*1的卷积\n",
    "        nn.Conv2d(out_channels, out_channels, kernel_size=1),\n",
    "        nn.ReLU(),\n",
    "        nn.Conv2d(out_channels, out_channels, kernel_size=1),\n",
    "        nn.ReLU()\n",
    "    )"
   ]
  },
  {
   "cell_type": "markdown",
   "id": "82f8d928",
   "metadata": {},
   "source": [
    "## 定义NiN模型"
   ]
  },
  {
   "cell_type": "code",
   "execution_count": 3,
   "id": "5a87d6b1",
   "metadata": {},
   "outputs": [],
   "source": [
    "net = nn.Sequential(\n",
    "    nin_block(1, 96, kernel_size=11, strides=4, padding=0),\n",
    "    nn.MaxPool2d(3, stride=2), # 输入高宽减半\n",
    "    nin_block(96, 256, kernel_size=5, strides=1, padding=2),\n",
    "    nn.MaxPool2d(3, stride=2),\n",
    "    nin_block(256, 384, kernel_size=3, strides=1, padding=1),\n",
    "    nn.MaxPool2d(3, stride=2),\n",
    "    nn.Dropout(0.5),\n",
    "    nin_block(384, 10, kernel_size=3, strides=1, padding=1), # 10为最终的类别数\n",
    "    nn.AdaptiveAvgPool2d((1, 1)), # 全局平均池化层，将高宽变为1*1，即(batch_size, 10, 1, 1)\n",
    "    nn.Flatten() # 拉直就成了(batch_size * 10)的矩阵\n",
    ") # 通道数基本延续Alexnet的设置"
   ]
  },
  {
   "cell_type": "code",
   "execution_count": null,
   "id": "4fa73cf2",
   "metadata": {},
   "outputs": [],
   "source": []
  }
 ],
 "metadata": {
  "kernelspec": {
   "display_name": "Python 3 (ipykernel)",
   "language": "python",
   "name": "python3"
  },
  "language_info": {
   "codemirror_mode": {
    "name": "ipython",
    "version": 3
   },
   "file_extension": ".py",
   "mimetype": "text/x-python",
   "name": "python",
   "nbconvert_exporter": "python",
   "pygments_lexer": "ipython3",
   "version": "3.8.13"
  }
 },
 "nbformat": 4,
 "nbformat_minor": 5
}
