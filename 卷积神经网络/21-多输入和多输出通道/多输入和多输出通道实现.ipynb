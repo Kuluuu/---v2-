{
 "cells": [
  {
   "cell_type": "markdown",
   "id": "4ba4b357",
   "metadata": {},
   "source": [
    "# 多输入和多输出通道"
   ]
  },
  {
   "cell_type": "markdown",
   "id": "59555902",
   "metadata": {},
   "source": [
    "实现一下多输入通道互相关运算"
   ]
  },
  {
   "cell_type": "code",
   "execution_count": 2,
   "id": "afe1f341",
   "metadata": {},
   "outputs": [],
   "source": [
    "import torch\n",
    "from d2l import torch as d2l"
   ]
  },
  {
   "cell_type": "code",
   "execution_count": 3,
   "id": "502ea7b8",
   "metadata": {},
   "outputs": [],
   "source": [
    "def corr2d_multi_in(X, K):\n",
    "    # X - 3-D (输入通道数， h, w)\n",
    "    # K - 3-D (输入通道数， h, w)\n",
    "    return sum(d2l.corr2d(x, k) for x, k in zip(X, K)) # 遍历最外围的通道数"
   ]
  },
  {
   "cell_type": "markdown",
   "id": "77f38d55",
   "metadata": {},
   "source": [
    "验证互相关运算的输出"
   ]
  },
  {
   "cell_type": "code",
   "execution_count": 4,
   "id": "1d8de66f",
   "metadata": {},
   "outputs": [
    {
     "data": {
      "text/plain": [
       "tensor([[ 56.,  72.],\n",
       "        [104., 120.]])"
      ]
     },
     "execution_count": 4,
     "metadata": {},
     "output_type": "execute_result"
    }
   ],
   "source": [
    "X = torch.tensor([\n",
    "        [\n",
    "            [0.0, 1.0, 2.0], [3.0, 4.0, 5.0], [6.0, 7.0 ,8.0]\n",
    "        ],\n",
    "        [\n",
    "            [1.0, 2.0, 3.0], [4.0, 5.0, 6.0], [7.0, 8.0, 9.0]\n",
    "        ]\n",
    "    ])\n",
    "K = torch.tensor([\n",
    "    [\n",
    "        [0.0, 1.0], [2.0, 3.0]\n",
    "    ], \n",
    "    [\n",
    "        [1.0, 2.0], [3.0, 4.0]\n",
    "    ]\n",
    "])\n",
    "corr2d_multi_in(X, K)"
   ]
  },
  {
   "cell_type": "markdown",
   "id": "4e044b9e",
   "metadata": {},
   "source": [
    "计算多个通道的输出的互相关函数"
   ]
  },
  {
   "cell_type": "code",
   "execution_count": 5,
   "id": "c5c911f7",
   "metadata": {},
   "outputs": [
    {
     "data": {
      "text/plain": [
       "torch.Size([3, 2, 2, 2])"
      ]
     },
     "execution_count": 5,
     "metadata": {},
     "output_type": "execute_result"
    }
   ],
   "source": [
    "def corr2d_multi_in_out(X, K):\n",
    "    # X - 3-D (输入通道数， h, w)\n",
    "    # K - 4-D (输出通道数, 输入通道数， h, w)\n",
    "    \n",
    "    # torch.stack()：沿着一个新维度对输入张量序列进行连接，序列中所有的张量都应该为相同形状\n",
    "    return torch.stack([corr2d_multi_in(X, k) for k in K], 0) # 便利输出通道，做多输入通道的卷积\n",
    "\n",
    "K = torch.stack((K, K + 1, K + 2), 0)\n",
    "K.shape"
   ]
  },
  {
   "cell_type": "code",
   "execution_count": 6,
   "id": "518f29f8",
   "metadata": {},
   "outputs": [
    {
     "data": {
      "text/plain": [
       "tensor([[[ 56.,  72.],\n",
       "         [104., 120.]],\n",
       "\n",
       "        [[ 76., 100.],\n",
       "         [148., 172.]],\n",
       "\n",
       "        [[ 96., 128.],\n",
       "         [192., 224.]]])"
      ]
     },
     "execution_count": 6,
     "metadata": {},
     "output_type": "execute_result"
    }
   ],
   "source": [
    "corr2d_multi_in_out(X, K)"
   ]
  },
  {
   "cell_type": "markdown",
   "id": "fffeb3cf",
   "metadata": {},
   "source": [
    "# 1$\\times $1卷积"
   ]
  },
  {
   "cell_type": "code",
   "execution_count": 8,
   "id": "899f896c",
   "metadata": {},
   "outputs": [],
   "source": [
    "def corr2d_multi_in_out_1x1(X, K):\n",
    "    c_i, h, w = X.shape\n",
    "    c_o = K.shape[0]\n",
    "    X = X.reshape((c_i, h * w))\n",
    "    K = K.reshape((c_o, c_i))\n",
    "    Y = torch.matmul(K, X)\n",
    "    return Y.reshape((c_o, h, w))\n",
    "\n",
    "X = torch.normal(0, 1, (3, 3, 3))\n",
    "K = torch.normal(0, 1, (2, 3, 1, 1))\n",
    "\n",
    "Y1 = corr2d_multi_in_out_1x1(X, K)\n",
    "Y2 = corr2d_multi_in_out(X, K)\n",
    "assert float(torch.abs(Y1 - Y2).sum()) < 1e-6"
   ]
  },
  {
   "cell_type": "code",
   "execution_count": null,
   "id": "4993357a",
   "metadata": {},
   "outputs": [],
   "source": []
  }
 ],
 "metadata": {
  "kernelspec": {
   "display_name": "Python 3 (ipykernel)",
   "language": "python",
   "name": "python3"
  },
  "language_info": {
   "codemirror_mode": {
    "name": "ipython",
    "version": 3
   },
   "file_extension": ".py",
   "mimetype": "text/x-python",
   "name": "python",
   "nbconvert_exporter": "python",
   "pygments_lexer": "ipython3",
   "version": "3.8.13"
  }
 },
 "nbformat": 4,
 "nbformat_minor": 5
}
