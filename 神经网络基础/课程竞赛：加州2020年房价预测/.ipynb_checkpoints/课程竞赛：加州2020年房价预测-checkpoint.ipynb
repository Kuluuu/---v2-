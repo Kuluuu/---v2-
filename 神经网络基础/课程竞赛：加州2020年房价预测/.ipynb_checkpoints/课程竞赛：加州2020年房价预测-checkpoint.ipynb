{
 "cells": [
  {
   "cell_type": "markdown",
   "metadata": {
    "id": "ZNZ8mIX3mDZi"
   },
   "source": [
    "以下代码在https://www.kaggle.com/competitions/california-house-prices/leaderboard\n",
    "\n",
    "Score: 0.25877\n",
    "\n",
    "Public score: 0.27381"
   ]
  },
  {
   "cell_type": "code",
   "execution_count": 5,
   "metadata": {
    "id": "GwfHYk8UeDxT"
   },
   "outputs": [],
   "source": [
    "# from google.colab import drive\n",
    "# drive.mount('/content/drive')"
   ]
  },
  {
   "cell_type": "code",
   "execution_count": 6,
   "metadata": {
    "id": "3vwWkkZ35pB4"
   },
   "outputs": [],
   "source": [
    "# !pip install gputil\n",
    "# !pip install psutil\n",
    "# !pip install humanize"
   ]
  },
  {
   "cell_type": "markdown",
   "metadata": {
    "id": "ZizyI1S5eXNM"
   },
   "source": [
    "# 导入包"
   ]
  },
  {
   "cell_type": "code",
   "execution_count": 7,
   "metadata": {
    "id": "JR8-2S0peYAw"
   },
   "outputs": [],
   "source": [
    "import pandas as pd\n",
    "import torch\n",
    "from matplotlib import pyplot as plt\n",
    "from torch import nn\n",
    "from torch.utils import data"
   ]
  },
  {
   "cell_type": "code",
   "execution_count": 8,
   "metadata": {
    "colab": {
     "base_uri": "https://localhost:8080/"
    },
    "id": "lMQW5fp8mfmQ",
    "outputId": "7b164caf-f32c-484c-af75-fd1bc81e4ec5"
   },
   "outputs": [
    {
     "name": "stdout",
     "output_type": "stream",
     "text": [
      "Gen RAM Free: 12.2 GB  |     Proc size: 322.4 MB\n",
      "GPU RAM Free: 15106MB | Used: 3MB | Util   0% | Total     15109MB\n",
      "cuda\n"
     ]
    }
   ],
   "source": [
    "import psutil\n",
    "import humanize\n",
    "import os\n",
    "import GPUtil as GPU\n",
    "\n",
    "GPUs = GPU.getGPUs()\n",
    "# XXX: only one GPU on Colab and isn’t guaranteed\n",
    "gpu = GPUs[0]\n",
    "def printm():\n",
    "    process = psutil.Process(os.getpid())\n",
    "    print(\"Gen RAM Free: \" + humanize.naturalsize(psutil.virtual_memory().available), \" |     Proc size: \" + humanize.naturalsize(process.memory_info().rss))\n",
    "    print(\"GPU RAM Free: {0:.0f}MB | Used: {1:.0f}MB | Util {2:3.0f}% | Total     {3:.0f}MB\".format(gpu.memoryFree, gpu.memoryUsed, gpu.memoryUtil*100, gpu.memoryTotal))\n",
    "printm()\n",
    "\n",
    "device=torch.device('cuda' if torch.cuda.is_available() else 'cpu')\n",
    "print(device)"
   ]
  },
  {
   "cell_type": "markdown",
   "metadata": {
    "id": "c2RUUN7EeUl6"
   },
   "source": [
    "# 加载数据"
   ]
  },
  {
   "cell_type": "code",
   "execution_count": 9,
   "metadata": {
    "colab": {
     "base_uri": "https://localhost:8080/"
    },
    "id": "4ru9dFqmeCQj",
    "outputId": "f0aa7297-826d-47c7-c175-6620ca102efc"
   },
   "outputs": [
    {
     "data": {
      "text/plain": [
       "((47439, 41),\n",
       " (31626, 40),\n",
       " Id                                                                             0\n",
       " Address                                                              540 Pine Ln\n",
       " Sold Price                                                             3825000.0\n",
       " Summary                        540 Pine Ln, Los Altos, CA 94022 is a single f...\n",
       " Type                                                                SingleFamily\n",
       " Year built                                                                1969.0\n",
       " Heating                             Heating - 2+ Zones, Central Forced Air - Gas\n",
       " Cooling                          Multi-Zone, Central AC, Whole House / Attic Fan\n",
       " Parking                                       Garage, Garage - Attached, Covered\n",
       " Lot                                                                          1.0\n",
       " Bedrooms                       Ground Floor Bedroom, Master Bedroom on Ground...\n",
       " Bathrooms                                                                    0.0\n",
       " Full bathrooms                                                               NaN\n",
       " Total interior livable area                                                  1.0\n",
       " Total spaces                                                                 0.0\n",
       " Garage spaces                                                                0.0\n",
       " Region                                                                 Los Altos\n",
       " Elementary School                                   Santa Rita Elementary School\n",
       " Elementary School Score                                                      7.0\n",
       " Elementary School Distance                                                   0.4\n",
       " Middle School                                                                NaN\n",
       " Middle School Score                                                          NaN\n",
       " Middle School Distance                                                       NaN\n",
       " High School                                                Los Altos High School\n",
       " High School Score                                                            8.0\n",
       " High School Distance                                                         1.3\n",
       " Flooring                                                  Tile, Hardwood, Carpet\n",
       " Heating features                                                 Forced air, Gas\n",
       " Cooling features                                                         Central\n",
       " Appliances included            Dishwasher, Dryer, Garbage disposal, Microwave...\n",
       " Laundry features                         Washer / Dryer, Inside, In Utility Room\n",
       " Parking features                              Garage, Garage - Attached, Covered\n",
       " Tax assessed value                                                      886486.0\n",
       " Annual tax amount                                                        12580.0\n",
       " Listed On                                                             2019-10-24\n",
       " Listed Price                                                           4198000.0\n",
       " Last Sold On                                                                 NaN\n",
       " Last Sold Price                                                              NaN\n",
       " City                                                                   Los Altos\n",
       " Zip                                                                        94022\n",
       " State                                                                         CA\n",
       " Name: 0, dtype: object,\n",
       " Id                                                                         47439\n",
       " Address                                                      3034 N Coolidge Ave\n",
       " Summary                        Live within steps to the scenic views on the L...\n",
       " Type                                                                SingleFamily\n",
       " Year built                                                                2020.0\n",
       " Heating                                                                  Central\n",
       " Cooling                                                              Central Air\n",
       " Parking                                                         Tandem Uncovered\n",
       " Lot                                                                        940.0\n",
       " Bedrooms                                                                       2\n",
       " Bathrooms                                                                    4.0\n",
       " Full bathrooms                                                               3.0\n",
       " Total interior livable area                                               1677.0\n",
       " Total spaces                                                                 4.0\n",
       " Garage spaces                                                                4.0\n",
       " Region                                                               Los Angeles\n",
       " Elementary School                                   Allesandro Elementary School\n",
       " Elementary School Score                                                      8.0\n",
       " Elementary School Distance                                                   0.5\n",
       " Middle School                                                                NaN\n",
       " Middle School Score                                                          NaN\n",
       " Middle School Distance                                                       NaN\n",
       " High School                                                                  NaN\n",
       " High School Score                                                            NaN\n",
       " High School Distance                                                         NaN\n",
       " Flooring                                                                   Vinyl\n",
       " Heating features                                                         Central\n",
       " Cooling features                                                     Central Air\n",
       " Appliances included            Dishwasher, Disposal, Microwave, Tankless Wate...\n",
       " Laundry features                                                       Stackable\n",
       " Parking features                                                Tandem Uncovered\n",
       " Tax assessed value                                                           NaN\n",
       " Annual tax amount                                                            NaN\n",
       " Listed On                                                             2020-11-06\n",
       " Listed Price                                                            799900.0\n",
       " Last Sold On                                                          2020-07-01\n",
       " Last Sold Price                                                         819000.0\n",
       " City                                                                  Dodgertown\n",
       " Zip                                                                        90090\n",
       " State                                                                         CA\n",
       " Name: 0, dtype: object)"
      ]
     },
     "execution_count": 9,
     "metadata": {},
     "output_type": "execute_result"
    }
   ],
   "source": [
    "train_data = pd.read_csv(\"/content/drive/MyDrive/Colab Notebooks/LiMu-Dive-into-Deep-Learning/data/train.csv\")\n",
    "test_data = pd.read_csv(\"/content/drive/MyDrive/Colab Notebooks/LiMu-Dive-into-Deep-Learning/data/test.csv\")\n",
    "\n",
    "train_data.shape, test_data.shape, train_data.iloc[0, :], test_data.iloc[0, :]"
   ]
  },
  {
   "cell_type": "markdown",
   "metadata": {
    "id": "2W8TQqRuevC8"
   },
   "source": [
    "# 数据预处理"
   ]
  },
  {
   "cell_type": "code",
   "execution_count": 10,
   "metadata": {
    "id": "9eMPLr9EenCA"
   },
   "outputs": [],
   "source": [
    "all_features = pd.concat([train_data, test_data])\n",
    "all_features = all_features.drop('Sold Price', axis=1)\n",
    "all_features = all_features.drop('Id', axis=1)"
   ]
  },
  {
   "cell_type": "markdown",
   "metadata": {
    "id": "jhgRTUGLex9-"
   },
   "source": [
    "## 连续值处理\n",
    "仅用连续值进行预测"
   ]
  },
  {
   "cell_type": "code",
   "execution_count": 11,
   "metadata": {
    "colab": {
     "base_uri": "https://localhost:8080/"
    },
    "id": "9zP2bluqfxAI",
    "outputId": "cdd19d96-b0ac-4f6a-be83-4b306958b56f"
   },
   "outputs": [
    {
     "data": {
      "text/plain": [
       "Year built                     0.048505\n",
       "Lot                           -0.018489\n",
       "Bathrooms                     -2.058002\n",
       "Full bathrooms                 0.000000\n",
       "Total interior livable area   -0.006552\n",
       "Total spaces                  -0.135519\n",
       "Garage spaces                 -0.123623\n",
       "Elementary School Score        0.622758\n",
       "Elementary School Distance    -0.339282\n",
       "Middle School Score            0.000000\n",
       "Middle School Distance         0.000000\n",
       "High School Score              0.929329\n",
       "High School Distance          -0.318177\n",
       "Tax assessed value             0.194780\n",
       "Annual tax amount              0.305277\n",
       "Listed Price                   1.407144\n",
       "Last Sold Price                0.000000\n",
       "Zip                            0.411159\n",
       "Name: 0, dtype: float64"
      ]
     },
     "execution_count": 11,
     "metadata": {},
     "output_type": "execute_result"
    }
   ],
   "source": [
    "numeric_features = all_features.dtypes[all_features.dtypes != 'object'].index\n",
    "all_features = all_features[numeric_features]\n",
    "all_features = all_features.apply(\n",
    "    lambda x : (x - x.mean()) / x.std()\n",
    ")\n",
    "all_features = all_features.fillna(0)\n",
    "all_features.iloc[0, :]"
   ]
  },
  {
   "cell_type": "markdown",
   "metadata": {
    "id": "TbQaivb7haTv"
   },
   "source": [
    "# 分割数据集"
   ]
  },
  {
   "cell_type": "code",
   "execution_count": 12,
   "metadata": {
    "colab": {
     "base_uri": "https://localhost:8080/"
    },
    "id": "nXpiqdJ3hM0s",
    "outputId": "bdab26a3-d504-49f2-b0f2-7eafe83176f5"
   },
   "outputs": [
    {
     "data": {
      "text/plain": [
       "(torch.Size([47439, 18]), torch.Size([47439, 1]), torch.Size([31626, 18]))"
      ]
     },
     "execution_count": 12,
     "metadata": {},
     "output_type": "execute_result"
    }
   ],
   "source": [
    "num_train = len(train_data)\n",
    "\n",
    "train_features = torch.tensor(all_features.iloc[:num_train, :].values, dtype=torch.float32)\n",
    "train_labels = torch.tensor(train_data.iloc[:, 2].values, dtype=torch.float32).reshape(-1, 1)\n",
    "test_features = torch.tensor(all_features.iloc[num_train:, :].values, dtype=torch.float32)\n",
    "\n",
    "# 转为GPU版本\n",
    "if torch.cuda.is_available():\n",
    "  train_features = train_features.to(device)\n",
    "  train_labels = train_labels.to(device)\n",
    "  test_features = test_features.to(device)\n",
    "\n",
    "train_features.shape, train_labels.shape, test_features.shape"
   ]
  },
  {
   "cell_type": "markdown",
   "metadata": {
    "id": "0P_Se1GEiDie"
   },
   "source": [
    "# 定义网络"
   ]
  },
  {
   "cell_type": "code",
   "execution_count": 13,
   "metadata": {
    "id": "-RpAh0YHiC3P"
   },
   "outputs": [],
   "source": [
    "class Net(nn.Module):\n",
    "  def __init__(self, in_features, out_features, hidden):\n",
    "    super(Net, self).__init__()\n",
    "    self.model = nn.Sequential(\n",
    "        nn.Linear(in_features, hidden[0]),\n",
    "        nn.ReLU(),\n",
    "        nn.Linear(hidden[0], hidden[1]),\n",
    "        nn.ReLU(),\n",
    "        nn.Linear(hidden[1], hidden[2]),\n",
    "        nn.ReLU(),\n",
    "        nn.Linear(hidden[2], hidden[3]),\n",
    "        nn.ReLU(),\n",
    "        nn.Linear(hidden[3], hidden[4]),\n",
    "        nn.ReLU(),\n",
    "        nn.Linear(hidden[4], out_features)\n",
    "    )\n",
    "  \n",
    "  def forward(self, inputs):\n",
    "    outputs = self.model(inputs)\n",
    "    return outputs"
   ]
  },
  {
   "cell_type": "code",
   "execution_count": 14,
   "metadata": {
    "id": "9KVPxDR7RZU5"
   },
   "outputs": [],
   "source": [
    "def get_net():\n",
    "  in_features, out_features, hidden= train_features.shape[1], 1, [36, 24, 12, 6, 3]\n",
    "  net = Net(in_features, out_features, hidden)\n",
    "  # 转为GPU版本\n",
    "  if torch.cuda.is_available():\n",
    "    net = net.to(device)\n",
    "  return net"
   ]
  },
  {
   "cell_type": "markdown",
   "metadata": {
    "id": "S2p7Us6nins6"
   },
   "source": [
    "# 定义相对误差"
   ]
  },
  {
   "cell_type": "code",
   "execution_count": 15,
   "metadata": {
    "id": "-xQQSeoMinvU"
   },
   "outputs": [],
   "source": [
    "loss = nn.MSELoss()\n",
    "# 转为GPU版本\n",
    "if torch.cuda.is_available():\n",
    "  loss = loss.to(device)\n",
    "\n",
    "def log_rmse(net, features, labels):\n",
    "  clipped_preds = torch.clamp(net(features), 1, float('inf'))\n",
    "  rmse = torch.sqrt(loss(torch.log(clipped_preds), torch.log(labels)))\n",
    "  return rmse.item()"
   ]
  },
  {
   "cell_type": "markdown",
   "metadata": {
    "id": "GWjxmI8JjJdI"
   },
   "source": [
    "# 定义数据迭代器"
   ]
  },
  {
   "cell_type": "code",
   "execution_count": 16,
   "metadata": {
    "colab": {
     "base_uri": "https://localhost:8080/"
    },
    "id": "C09MR6-Aikq8",
    "outputId": "8d0ed6d5-6caa-4a83-9e52-514226db5814"
   },
   "outputs": [
    {
     "name": "stdout",
     "output_type": "stream",
     "text": [
      "torch.Size([20, 18]) torch.Size([20, 1])\n"
     ]
    }
   ],
   "source": [
    "def data_iter(data_array, batch_size, is_train=True):\n",
    "  dataset = data.TensorDataset(*data_array)\n",
    "  return data.DataLoader(dataset, batch_size, shuffle=is_train)\n",
    "\n",
    "# 测试\n",
    "for X,y in data_iter((train_features, train_labels), 20):\n",
    "  print(X.shape, y.shape)\n",
    "  break"
   ]
  },
  {
   "cell_type": "markdown",
   "metadata": {
    "id": "gl1WsgubjpzI"
   },
   "source": [
    "# 定义训练过程"
   ]
  },
  {
   "cell_type": "code",
   "execution_count": 17,
   "metadata": {
    "id": "sv5bDaD9jpLK"
   },
   "outputs": [],
   "source": [
    "def train(net, loss, train_features, train_labels, test_features, test_labels, \n",
    "          learning_rate, weight_decay, num_epochs, batch_size):\n",
    "  train_ls, test_ls = [], []\n",
    "  optimizer = torch.optim.Adam(net.parameters(), lr=learning_rate, weight_decay=weight_decay)\n",
    "  \n",
    "  for epoch in range(num_epochs):\n",
    "    for X, y in data_iter((train_features, train_labels), batch_size):\n",
    "      optimizer.zero_grad()\n",
    "      l = loss(net(X), y)\n",
    "      l.sum().backward()\n",
    "      optimizer.step()\n",
    "    with torch.no_grad():\n",
    "      train_ls.append(log_rmse(net, train_features, train_labels))\n",
    "      if test_features is not None:\n",
    "        test_ls.append(log_rmse(net, test_features, test_labels))\n",
    "  return train_ls, test_ls"
   ]
  },
  {
   "cell_type": "markdown",
   "metadata": {
    "id": "7nRVFXyCke24"
   },
   "source": [
    "# 定义K折交叉验证"
   ]
  },
  {
   "cell_type": "code",
   "execution_count": 18,
   "metadata": {
    "id": "MR0B1gUrjdvd"
   },
   "outputs": [],
   "source": [
    "def get_k_fold(k, i, X, y):\n",
    "  \"\"\"划分训练集和验证集\"\"\"\n",
    "  fold_size = X.shape[0] // k\n",
    "  X_train, y_train = None, None\n",
    "  \n",
    "  for j in range(k):\n",
    "    idx = slice(j * fold_size, (j + 1) * fold_size)\n",
    "    X_part, y_part = X[idx, :], y[idx]\n",
    "\n",
    "    if j == i:\n",
    "      X_valid, y_valid = X_part, y_part\n",
    "    elif X_train is None:\n",
    "      X_train, y_train = X_part, y_part\n",
    "    else:\n",
    "      X_train = torch.cat([X_train, X_part], 0)\n",
    "      y_train = torch.cat([y_train, y_part], 0)\n",
    "  return X_train, y_train, X_valid, y_valid"
   ]
  },
  {
   "cell_type": "code",
   "execution_count": 19,
   "metadata": {
    "id": "K0aAJtqElHVl"
   },
   "outputs": [],
   "source": [
    "def k_fold(k, loss, train_features, train_labels, learning_rate, \n",
    "           weight_decay, num_epochs, batch_size):\n",
    "  train_l_sum, valid_l_sum = 0, 0\n",
    "  \n",
    "  for i in range(k):\n",
    "    data = get_k_fold(k, i, train_features, train_labels)\n",
    "    net = get_net()\n",
    "\n",
    "    train_ls, valid_ls = train(net, loss, *data, learning_rate,\n",
    "                    weight_decay, num_epochs, batch_size)\n",
    "    train_l_sum += train_ls[-1]\n",
    "    valid_l_sum += valid_ls[-1]\n",
    "    print(f'fold {i + 1}, train log rmse {float(train_ls[-1]) : f}, '\n",
    "              f'valid log rmse {float(valid_ls[-1]) : f}')\n",
    "    printm()\n",
    "\n",
    "    if i == k-1:\n",
    "      fig, ax = plt.subplots(figsize=(8, 6))\n",
    "      ax.plot(range(num_epochs), train_ls, color='blue', label='train')\n",
    "      ax.plot(range(num_epochs), valid_ls, color='purple', label='valid')\n",
    "      ax.legend()\n",
    "      ax.set_xlabel('epochs')\n",
    "      ax.set_ylabel('rmse')\n",
    "      plt.show()\n",
    "  return train_l_sum / k, valid_l_sum / k # 所有折的平均误差"
   ]
  },
  {
   "cell_type": "code",
   "execution_count": 20,
   "metadata": {
    "colab": {
     "base_uri": "https://localhost:8080/",
     "height": 682
    },
    "id": "2ZWWeFqqlMup",
    "outputId": "1849b2da-6b36-409a-cd88-182ca5e17a20"
   },
   "outputs": [
    {
     "name": "stdout",
     "output_type": "stream",
     "text": [
      "fold 1, train log rmse  0.281541, valid log rmse  0.284585\n",
      "Gen RAM Free: 10.9 GB  |     Proc size: 2.6 GB\n",
      "GPU RAM Free: 15106MB | Used: 3MB | Util   0% | Total     15109MB\n",
      "fold 2, train log rmse  0.248724, valid log rmse  0.247740\n",
      "Gen RAM Free: 10.9 GB  |     Proc size: 2.6 GB\n",
      "GPU RAM Free: 15106MB | Used: 3MB | Util   0% | Total     15109MB\n",
      "fold 3, train log rmse  0.302745, valid log rmse  0.314750\n",
      "Gen RAM Free: 10.9 GB  |     Proc size: 2.6 GB\n",
      "GPU RAM Free: 15106MB | Used: 3MB | Util   0% | Total     15109MB\n",
      "fold 4, train log rmse  0.408036, valid log rmse  0.468722\n",
      "Gen RAM Free: 10.9 GB  |     Proc size: 2.6 GB\n",
      "GPU RAM Free: 15106MB | Used: 3MB | Util   0% | Total     15109MB\n",
      "fold 5, train log rmse  0.282754, valid log rmse  0.310664\n",
      "Gen RAM Free: 10.9 GB  |     Proc size: 2.6 GB\n",
      "GPU RAM Free: 15106MB | Used: 3MB | Util   0% | Total     15109MB\n"
     ]
    },
    {
     "data": {
      "image/png": "[encoded data removed]",
      "text/plain": [
       "<Figure size 576x432 with 1 Axes>"
      ]
     },
     "metadata": {
      "needs_background": "light"
     },
     "output_type": "display_data"
    },
    {
     "name": "stdout",
     "output_type": "stream",
     "text": [
      "5-折验证: 平均训练log rmse: 0.304760, 平均验证log rmse: 0.325292\n"
     ]
    }
   ],
   "source": [
    "k, learning_rate, weight_decay, num_epochs, batch_size = 5, 0.01, 0.5, 500, 200\n",
    "\n",
    "train_l, valid_l = k_fold(k, loss, train_features, train_labels, learning_rate, \n",
    "           weight_decay, num_epochs, batch_size)\n",
    "print(f'{k}-折验证: 平均训练log rmse: {float(train_l):f}, '\n",
    "      f'平均验证log rmse: {float(valid_l):f}')"
   ]
  },
  {
   "cell_type": "markdown",
   "metadata": {
    "id": "dIfmXGAVAseA"
   },
   "source": [
    "# 预测结果"
   ]
  },
  {
   "cell_type": "code",
   "execution_count": 21,
   "metadata": {
    "id": "oo5HACAiAsPt"
   },
   "outputs": [],
   "source": [
    "def preds_and_trian(loss, train_features, train_labels, test_data, learning_rate, \n",
    "           weight_decay, num_epochs, batch_size):\n",
    "  net = get_net()\n",
    "  train_ls, _ = train(net, loss, train_features, train_labels, None, None, \n",
    "          learning_rate, weight_decay, num_epochs, batch_size)\n",
    "  fig, ax = plt.subplots(figsize=(8, 6))\n",
    "  ax.plot(range(num_epochs), train_ls, color='blue', label='train')\n",
    "  ax.set_xlabel('epochs')\n",
    "  ax.set_ylabel('rmse')\n",
    "  plt.show()\n",
    "\n",
    "  preds = net(test_features).to('cpu').detach().numpy()\n",
    "  test_data['Sold Price'] = pd.Series(preds.reshape(1, -1)[0])\n",
    "  submission = pd.concat([test_data['Id'], test_data['Sold Price']], axis=1)\n",
    "  print(submission)\n",
    "  submission.to_csv('submission.csv', index=False)"
   ]
  },
  {
   "cell_type": "code",
   "execution_count": 22,
   "metadata": {
    "colab": {
     "base_uri": "https://localhost:8080/",
     "height": 645
    },
    "id": "9-u6n9FOBFQi",
    "outputId": "f445223e-8542-49ee-bb78-d9bcf6a53da0"
   },
   "outputs": [
    {
     "data": {
      "image/png": "[encoded data removed]",
      "text/plain": [
       "<Figure size 576x432 with 1 Axes>"
      ]
     },
     "metadata": {
      "needs_background": "light"
     },
     "output_type": "display_data"
    },
    {
     "name": "stdout",
     "output_type": "stream",
     "text": [
      "          Id    Sold Price\n",
      "0      47439  8.519238e+05\n",
      "1      47440  5.123766e+05\n",
      "2      47441  8.777791e+05\n",
      "3      47442  8.383452e+05\n",
      "4      47443  1.089889e+06\n",
      "...      ...           ...\n",
      "31621  79060  7.359616e+06\n",
      "31622  79061  4.048612e+05\n",
      "31623  79062  6.623729e+05\n",
      "31624  79063  5.317175e+05\n",
      "31625  79064  6.085492e+05\n",
      "\n",
      "[31626 rows x 2 columns]\n"
     ]
    }
   ],
   "source": [
    "preds_and_trian(loss, train_features, train_labels, test_data, learning_rate, \n",
    "           weight_decay, num_epochs, batch_size)"
   ]
  }
 ],
 "metadata": {
  "accelerator": "GPU",
  "colab": {
   "collapsed_sections": [],
   "name": "课程竞赛：加州2020年房价预测.ipynb",
   "provenance": []
  },
  "gpuClass": "standard",
  "kernelspec": {
   "display_name": "Python 3 (ipykernel)",
   "language": "python",
   "name": "python3"
  },
  "language_info": {
   "codemirror_mode": {
    "name": "ipython",
    "version": 3
   },
   "file_extension": ".py",
   "mimetype": "text/x-python",
   "name": "python",
   "nbconvert_exporter": "python",
   "pygments_lexer": "ipython3",
   "version": "3.8.13"
  }
 },
 "nbformat": 4,
 "nbformat_minor": 1
}
