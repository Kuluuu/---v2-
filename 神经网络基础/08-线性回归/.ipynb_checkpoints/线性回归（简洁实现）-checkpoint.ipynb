{
 "cells": [
  {
   "cell_type": "code",
   "execution_count": 2,
   "id": "dd5cf5f2",
   "metadata": {},
   "outputs": [],
   "source": [
    "import numpy as np\n",
    "import torch\n",
    "from torch.utils import data\n",
    "from d2l import torch as d2l\n",
    "\n",
    "true_w = torch.tensor([2, -3.4])\n",
    "true_b = 4.2\n",
    "features, labels = d2l.synthetic_data(true_w, true_b, 1000)"
   ]
  },
  {
   "cell_type": "markdown",
   "id": "9687ec84",
   "metadata": {},
   "source": [
    "调用框架中现有的API来读取数据"
   ]
  },
  {
   "cell_type": "code",
   "execution_count": 4,
   "id": "42f3b258",
   "metadata": {},
   "outputs": [
    {
     "name": "stdout",
     "output_type": "stream",
     "text": [
      "<torch.utils.data.dataset.TensorDataset object at 0x0000019AC2804E80>\n"
     ]
    },
    {
     "data": {
      "text/plain": [
       "[tensor([[ 0.5352,  1.2849],\n",
       "         [-0.2363,  1.4786],\n",
       "         [ 1.5125, -0.1357],\n",
       "         [-2.4942, -0.1986],\n",
       "         [ 1.1285, -0.4563],\n",
       "         [-1.2149,  0.9954],\n",
       "         [ 1.1794, -0.3635],\n",
       "         [-0.6623,  0.2684],\n",
       "         [-0.0271,  0.1493],\n",
       "         [ 0.0339,  0.3477]]),\n",
       " tensor([[ 0.8906],\n",
       "         [-1.3054],\n",
       "         [ 7.6810],\n",
       "         [-0.0994],\n",
       "         [ 8.0059],\n",
       "         [-1.6143],\n",
       "         [ 7.7878],\n",
       "         [ 1.9777],\n",
       "         [ 3.6512],\n",
       "         [ 3.0855]])]"
      ]
     },
     "execution_count": 4,
     "metadata": {},
     "output_type": "execute_result"
    }
   ],
   "source": [
    "def load_array(data_arrays, batch_size, is_train=True):\n",
    "    # data_arrays - 封装了(features, labels)的list\n",
    "\n",
    "    \"\"\"构造一个PyTorch数据迭代器\"\"\"\n",
    "    # TensorDataset:把输入的两类数据进行一一对应；\n",
    "    dataset = data.TensorDataset(*data_arrays)  # * - 将元组拆包\n",
    "    # DataLoader：封装为数据加载器\n",
    "    return data.DataLoader(dataset, batch_size, shuffle=is_train)\n",
    "\n",
    "\n",
    "batch_size = 10\n",
    "data_iter = load_array((features, labels), batch_size)\n",
    "\n",
    "next(iter(data_iter)) # 转为一个迭代器，通过next()来获取X，y"
   ]
  },
  {
   "cell_type": "markdown",
   "id": "bd56bfc9",
   "metadata": {},
   "source": [
    "使用框架的预定义好的层"
   ]
  },
  {
   "cell_type": "code",
   "execution_count": 5,
   "id": "e9665d3a",
   "metadata": {},
   "outputs": [],
   "source": [
    "# 'nn'是神经网络的缩写\n",
    "from torch import nn\n",
    "\n",
    "net = nn.Sequential(nn.Linear(2, 1)) # (2, 1) - 指定输入维度、输出维度"
   ]
  },
  {
   "cell_type": "markdown",
   "id": "471c3bf9",
   "metadata": {},
   "source": [
    "初始化模型参数"
   ]
  },
  {
   "cell_type": "code",
   "execution_count": 7,
   "id": "4b7facf9",
   "metadata": {},
   "outputs": [
    {
     "data": {
      "text/plain": [
       "tensor([0.])"
      ]
     },
     "execution_count": 7,
     "metadata": {},
     "output_type": "execute_result"
    }
   ],
   "source": [
    "net[0].weight.data.normal_(0, 0.01) # 使用正态分布替换weight的值\n",
    "net[0].bias.data.fill_(0)"
   ]
  },
  {
   "cell_type": "markdown",
   "id": "99c4aae3",
   "metadata": {},
   "source": [
    "计算均方误差使用的是MSELoss类，也称作平方$L_2$范数"
   ]
  },
  {
   "cell_type": "code",
   "execution_count": 8,
   "id": "583ff263",
   "metadata": {},
   "outputs": [],
   "source": [
    "loss = nn.MSELoss()"
   ]
  },
  {
   "cell_type": "markdown",
   "id": "749b881a",
   "metadata": {},
   "source": [
    "实例化SGD实例"
   ]
  },
  {
   "cell_type": "code",
   "execution_count": 9,
   "id": "d5b969c8",
   "metadata": {},
   "outputs": [],
   "source": [
    "trainer = torch.optim.SGD(net.parameters(), lr=0.03)"
   ]
  },
  {
   "cell_type": "markdown",
   "id": "96140807",
   "metadata": {},
   "source": [
    "训练过程代码与我们从零开始实现时做的非常相似"
   ]
  },
  {
   "cell_type": "code",
   "execution_count": 13,
   "id": "8849b6ca",
   "metadata": {},
   "outputs": [
    {
     "name": "stdout",
     "output_type": "stream",
     "text": [
      "epoch 1, loss  0.000097\n",
      "epoch 2, loss  0.000098\n",
      "epoch 3, loss  0.000098\n"
     ]
    }
   ],
   "source": [
    "num_epochs = 3\n",
    "for epoch in range(num_epochs):\n",
    "    for X, y in data_iter:\n",
    "        l = loss(net(X), y) # net中有w和b，所以不需要再传入w和b了\n",
    "        trainer.zero_grad() # 将优化器的梯度清零\n",
    "        l.backward() # 这里PyTorch已经自动做了sum\n",
    "        trainer.step() # step() - 进行一次模型更新\n",
    "    l = loss(net(features), labels)\n",
    "    print(f'epoch {epoch + 1}, loss {l : f}')"
   ]
  },
  {
   "cell_type": "code",
   "execution_count": null,
   "id": "5508b1f0",
   "metadata": {},
   "outputs": [],
   "source": []
  }
 ],
 "metadata": {
  "kernelspec": {
   "display_name": "Python 3 (ipykernel)",
   "language": "python",
   "name": "python3"
  },
  "language_info": {
   "codemirror_mode": {
    "name": "ipython",
    "version": 3
   },
   "file_extension": ".py",
   "mimetype": "text/x-python",
   "name": "python",
   "nbconvert_exporter": "python",
   "pygments_lexer": "ipython3",
   "version": "3.8.13"
  }
 },
 "nbformat": 4,
 "nbformat_minor": 5
}
