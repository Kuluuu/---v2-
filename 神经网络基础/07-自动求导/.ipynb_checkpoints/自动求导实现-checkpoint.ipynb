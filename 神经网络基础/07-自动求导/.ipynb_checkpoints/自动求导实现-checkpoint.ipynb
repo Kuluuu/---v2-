{
 "cells": [
  {
   "cell_type": "markdown",
   "id": "6a2e0e90",
   "metadata": {},
   "source": [
    "# 自动求导\n",
    "假设对$y=2x^Tx$，关于列向量x求导"
   ]
  },
  {
   "cell_type": "code",
   "execution_count": 1,
   "id": "772872a1",
   "metadata": {},
   "outputs": [
    {
     "data": {
      "text/plain": [
       "tensor([0., 1., 2., 3.])"
      ]
     },
     "execution_count": 1,
     "metadata": {},
     "output_type": "execute_result"
    }
   ],
   "source": [
    "import torch\n",
    "\n",
    "x = torch.arange(4.0)\n",
    "x"
   ]
  },
  {
   "cell_type": "code",
   "execution_count": 3,
   "id": "c66fc445",
   "metadata": {},
   "outputs": [],
   "source": [
    "# 在计算梯度之前，需要一个地方来存储梯度\n",
    "x.requires_grad_(True) # 等价于'x=torch.arange(4.0, requires_grad_=True)'\n",
    "# 就可以采用下面的代码访问梯度\n",
    "x.grad # 默认值为None"
   ]
  },
  {
   "cell_type": "code",
   "execution_count": 5,
   "id": "ce9ddbed",
   "metadata": {},
   "outputs": [
    {
     "data": {
      "text/plain": [
       "tensor(28., grad_fn=<MulBackward0>)"
      ]
     },
     "execution_count": 5,
     "metadata": {},
     "output_type": "execute_result"
    }
   ],
   "source": [
    "# 计算y\n",
    "y = 2 * torch.dot(x, x)\n",
    "y"
   ]
  },
  {
   "cell_type": "code",
   "execution_count": 6,
   "id": "47a51548",
   "metadata": {},
   "outputs": [
    {
     "data": {
      "text/plain": [
       "tensor([ 0.,  4.,  8., 12.])"
      ]
     },
     "execution_count": 6,
     "metadata": {},
     "output_type": "execute_result"
    }
   ],
   "source": [
    "# 通过调用反向传播函数来自动计算y关于x每个分量的梯度\n",
    "y.backward()\n",
    "x.grad"
   ]
  },
  {
   "cell_type": "code",
   "execution_count": 7,
   "id": "03396af2",
   "metadata": {},
   "outputs": [
    {
     "data": {
      "text/plain": [
       "tensor([True, True, True, True])"
      ]
     },
     "execution_count": 7,
     "metadata": {},
     "output_type": "execute_result"
    }
   ],
   "source": [
    "x.grad == 4 * x"
   ]
  },
  {
   "cell_type": "markdown",
   "id": "e0a07287",
   "metadata": {},
   "source": [
    "现在来计算x的另一个函数"
   ]
  },
  {
   "cell_type": "code",
   "execution_count": 14,
   "id": "b6751223",
   "metadata": {},
   "outputs": [
    {
     "data": {
      "text/plain": [
       "tensor([1., 1., 1., 1.])"
      ]
     },
     "execution_count": 14,
     "metadata": {},
     "output_type": "execute_result"
    }
   ],
   "source": [
    "# 在默认情况下，PyTorch会累计梯度，我们需要清除之前的值\n",
    "x.grad.zero_()\n",
    "y = x.sum()\n",
    "y.backward()\n",
    "x.grad"
   ]
  },
  {
   "cell_type": "markdown",
   "id": "62aaf980",
   "metadata": {},
   "source": [
    "深度学习中，我们的目的不是计算微分矩阵，而是批量中每个样本单独计算的偏导数之和"
   ]
  },
  {
   "cell_type": "code",
   "execution_count": 20,
   "id": "96b53051",
   "metadata": {},
   "outputs": [
    {
     "data": {
      "text/plain": [
       "tensor([0., 2., 4., 6.])"
      ]
     },
     "execution_count": 20,
     "metadata": {},
     "output_type": "execute_result"
    }
   ],
   "source": [
    "# 对非标量调用'backward'需要传入一个'gradient'参数，该参数指定微分函数\n",
    "x.grad.zero_()\n",
    "y = x * x # 4维\n",
    "# 等价于y.backward(torch.ones(len(x)))\n",
    "y.sum().backward() # 一般不对向量或矩阵求导，而是采用sum的方式，因为sum求导就是单位矩阵对结果没有影响\n",
    "x.grad"
   ]
  },
  {
   "cell_type": "markdown",
   "id": "09f40f01",
   "metadata": {},
   "source": [
    "将某些计算移动到记录的计算图之外"
   ]
  },
  {
   "cell_type": "code",
   "execution_count": 24,
   "id": "f582e396",
   "metadata": {},
   "outputs": [
    {
     "data": {
      "text/plain": [
       "tensor([True, True, True, True])"
      ]
     },
     "execution_count": 24,
     "metadata": {},
     "output_type": "execute_result"
    }
   ],
   "source": [
    "x.grad.zero_()\n",
    "y = x * x\n",
    "u = y.detach() # 将反向传播停止到u这个地方，将u看作一个标量而非关于x的函数\n",
    "z = u * x\n",
    "\n",
    "z.sum().backward()\n",
    "x.grad == 3 * x * x"
   ]
  },
  {
   "cell_type": "code",
   "execution_count": null,
   "id": "eee360b1",
   "metadata": {},
   "outputs": [],
   "source": []
  }
 ],
 "metadata": {
  "kernelspec": {
   "display_name": "Python 3 (ipykernel)",
   "language": "python",
   "name": "python3"
  },
  "language_info": {
   "codemirror_mode": {
    "name": "ipython",
    "version": 3
   },
   "file_extension": ".py",
   "mimetype": "text/x-python",
   "name": "python",
   "nbconvert_exporter": "python",
   "pygments_lexer": "ipython3",
   "version": "3.8.13"
  }
 },
 "nbformat": 4,
 "nbformat_minor": 5
}
