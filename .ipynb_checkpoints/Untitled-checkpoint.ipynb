{
 "cells": [
  {
   "cell_type": "code",
   "execution_count": 141,
   "id": "d3ac29f4",
   "metadata": {},
   "outputs": [],
   "source": [
    "import torch\n",
    "import random\n",
    "from d2l import torch as d2l\n",
    "from matplotlib import pyplot as plt"
   ]
  },
  {
   "cell_type": "markdown",
   "id": "027ac50d",
   "metadata": {},
   "source": [
    "# 生成数据"
   ]
  },
  {
   "cell_type": "code",
   "execution_count": 142,
   "id": "98881522",
   "metadata": {},
   "outputs": [],
   "source": [
    "true_w, true_b = torch.tensor([2, -3.4]), 4.2\n",
    "\n",
    "def synthetic_data(w, b, num_examples):\n",
    "    \"\"\"生成y = Xw + b + 噪音的数据\"\"\"\n",
    "    X = torch.normal(0, 1, size=(num_examples, len(w))) # 生成X样本\n",
    "    y = X @ w + b\n",
    "    y += torch.normal(0, 0.01, y.shape) # 噪音\n",
    "    return X, y.reshape(-1, 1)"
   ]
  },
  {
   "cell_type": "code",
   "execution_count": 143,
   "id": "ac21aeb1",
   "metadata": {},
   "outputs": [],
   "source": [
    "num_examples = 100\n",
    "features, labels = synthetic_data(true_w,true_b, num_examples)"
   ]
  },
  {
   "cell_type": "markdown",
   "id": "0ec080d7",
   "metadata": {},
   "source": [
    "# 数据可视化"
   ]
  },
  {
   "cell_type": "code",
   "execution_count": 144,
   "id": "cd32e98f",
   "metadata": {},
   "outputs": [
    {
     "data": {
      "image/png": "[encoded data removed]",
      "text/plain": [
       "<Figure size 576x432 with 1 Axes>"
      ]
     },
     "metadata": {
      "needs_background": "light"
     },
     "output_type": "display_data"
    }
   ],
   "source": [
    "fig, ax = plt.subplots(figsize=(8, 6))\n",
    "ax.scatter(features[:, 1], labels, s=10, color='b') # 采取X的第一维特征和y进行可视化\n",
    "ax.set_xlabel(\"X_1\")\n",
    "ax.set_ylabel(\"y\")\n",
    "plt.show()"
   ]
  },
  {
   "cell_type": "markdown",
   "id": "6609d01c",
   "metadata": {},
   "source": [
    "# 定义迭代器data_iter"
   ]
  },
  {
   "cell_type": "code",
   "execution_count": 145,
   "id": "9af115e1",
   "metadata": {},
   "outputs": [],
   "source": [
    "def data_iter(batch_size, features, labels):\n",
    "    num_examples = len(features)\n",
    "    indices = list(range(num_examples))\n",
    "    random.shuffle(indices)\n",
    "    \n",
    "    for i in range(0, num_examples, batch_size):\n",
    "        batch_indices = torch.tensor(indices[i: min(i+batch_size, num_examples)])\n",
    "        yield features[batch_indices], labels[batch_indices]"
   ]
  },
  {
   "cell_type": "code",
   "execution_count": 146,
   "id": "663b4ca1",
   "metadata": {
    "scrolled": true
   },
   "outputs": [
    {
     "name": "stdout",
     "output_type": "stream",
     "text": [
      "torch.Size([20, 2]) torch.Size([20, 1])\n",
      "torch.Size([20, 2]) torch.Size([20, 1])\n",
      "torch.Size([20, 2]) torch.Size([20, 1])\n",
      "torch.Size([20, 2]) torch.Size([20, 1])\n",
      "torch.Size([20, 2]) torch.Size([20, 1])\n"
     ]
    }
   ],
   "source": [
    "for X, y in data_iter(20, features, labels):\n",
    "    print(X.shape, y.shape)"
   ]
  },
  {
   "cell_type": "markdown",
   "id": "d58e37f7",
   "metadata": {},
   "source": [
    "# 定义模型"
   ]
  },
  {
   "cell_type": "code",
   "execution_count": 147,
   "id": "fe7fd2fb",
   "metadata": {},
   "outputs": [],
   "source": [
    "def linreg(X, w, b):\n",
    "    return X @ w + b"
   ]
  },
  {
   "cell_type": "markdown",
   "id": "7cf74480",
   "metadata": {},
   "source": [
    "# 定义损失函数"
   ]
  },
  {
   "cell_type": "code",
   "execution_count": 148,
   "id": "4eb987cb",
   "metadata": {},
   "outputs": [],
   "source": [
    "def squared_loss(y_hat, y):\n",
    "    return (y_hat - y.reshape(y_hat.shape)) ** 2 / 2"
   ]
  },
  {
   "cell_type": "markdown",
   "id": "0ec9ef1a",
   "metadata": {},
   "source": [
    "# 定义优化算法"
   ]
  },
  {
   "cell_type": "code",
   "execution_count": 149,
   "id": "32b37916",
   "metadata": {},
   "outputs": [],
   "source": [
    "def sgd(params, lr, batch_size):\n",
    "    with torch.no_grad():\n",
    "        for param in params:\n",
    "            param -= lr * param.grad / batch_size\n",
    "            param.grad.zero_()"
   ]
  },
  {
   "cell_type": "markdown",
   "id": "6053e957",
   "metadata": {},
   "source": [
    "# 初始化参数"
   ]
  },
  {
   "cell_type": "code",
   "execution_count": 150,
   "id": "33100e0e",
   "metadata": {},
   "outputs": [],
   "source": [
    "w =  torch.normal(0, 0.01, size=(2, 1), requires_grad=True)\n",
    "b = torch.zeros(1, requires_grad=True)"
   ]
  },
  {
   "cell_type": "markdown",
   "id": "60ac38f6",
   "metadata": {},
   "source": [
    "# 训练过程"
   ]
  },
  {
   "cell_type": "code",
   "execution_count": 151,
   "id": "a431fe79",
   "metadata": {},
   "outputs": [],
   "source": [
    "def train(net, loss, learning_rate, num_epochs, batch_size):\n",
    "    train_ls = []\n",
    "    for epoch in range(num_epochs):\n",
    "        for X, y in data_iter(batch_size, features, labels):\n",
    "            l = loss(net(X, w, b), y)\n",
    "            l.sum().backward()\n",
    "            sgd([w, b], learning_rate, batch_size)\n",
    "        with torch.no_grad():\n",
    "            train_ls.append(loss(net(X, w, b), y).mean())\n",
    "#             print(f'epoch {epoch + 1}, loss {float(train_ls[epoch].mean()) : f}')\n",
    "\n",
    "    # 绘制Loss曲线\n",
    "    fig, ax = plt.subplots(figsize=(8, 6))\n",
    "    ax.plot(torch.arange(num_epochs), train_ls)\n",
    "    ax.set_xlabel(\"Epochs\")\n",
    "    ax.set_ylabel(\"Loss\")\n",
    "    plt.show()\n",
    "    \n",
    "    print(f'w的估计误差：{true_w - w.reshape(true_w.shape)}')\n",
    "    print(f'b的估计误差：{true_b - b}')"
   ]
  },
  {
   "cell_type": "code",
   "execution_count": 152,
   "id": "2aec103b",
   "metadata": {},
   "outputs": [
    {
     "data": {
      "image/png": "[encoded data removed]",
      "text/plain": [
       "<Figure size 576x432 with 1 Axes>"
      ]
     },
     "metadata": {
      "needs_background": "light"
     },
     "output_type": "display_data"
    },
    {
     "name": "stdout",
     "output_type": "stream",
     "text": [
      "w的估计误差：tensor([0.0008, 0.0021], grad_fn=<SubBackward0>)\n",
      "b的估计误差：tensor([-7.2956e-05], grad_fn=<RsubBackward1>)\n"
     ]
    }
   ],
   "source": [
    "net, loss = linreg, squared_loss\n",
    "learning_rate, num_epochs, batch_size = 0.03, 100, 20\n",
    "\n",
    "train(net, loss, learning_rate, num_epochs, batch_size)"
   ]
  },
  {
   "cell_type": "code",
   "execution_count": null,
   "id": "d95acc4f",
   "metadata": {},
   "outputs": [],
   "source": []
  }
 ],
 "metadata": {
  "kernelspec": {
   "display_name": "Python 3 (ipykernel)",
   "language": "python",
   "name": "python3"
  },
  "language_info": {
   "codemirror_mode": {
    "name": "ipython",
    "version": 3
   },
   "file_extension": ".py",
   "mimetype": "text/x-python",
   "name": "python",
   "nbconvert_exporter": "python",
   "pygments_lexer": "ipython3",
   "version": "3.8.13"
  }
 },
 "nbformat": 4,
 "nbformat_minor": 5
}
